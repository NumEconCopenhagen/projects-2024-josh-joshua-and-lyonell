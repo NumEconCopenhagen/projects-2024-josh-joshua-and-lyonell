{
 "cells": [
  {
   "cell_type": "markdown",
   "metadata": {},
   "source": [
    "**Table of contents**<a id='toc0_'></a>    \n",
    "- 1. [Problem 1: Production economy and CO2 taxation](#toc1_)    \n",
    "- 2. [Problem 2: Career choice model](#toc2_)    \n",
    "- 3. [Problem 3: Barycentric interpolation](#toc3_)    \n",
    "\n",
    "<!-- vscode-jupyter-toc-config\n",
    "\tnumbering=true\n",
    "\tanchor=true\n",
    "\tflat=false\n",
    "\tminLevel=2\n",
    "\tmaxLevel=6\n",
    "\t/vscode-jupyter-toc-config -->\n",
    "<!-- THIS CELL WILL BE REPLACED ON TOC UPDATE. DO NOT WRITE YOUR TEXT IN THIS CELL -->"
   ]
  },
  {
   "cell_type": "code",
   "execution_count": 83,
   "metadata": {},
   "outputs": [],
   "source": [
    "# Write your code here\n",
    "import numpy as np\n",
    "from types import SimpleNamespace\n",
    "\n",
    "import matplotlib.pyplot as plt\n",
    "from scipy.optimize import minimize\n",
    "import math"
   ]
  },
  {
   "cell_type": "markdown",
   "metadata": {},
   "source": [
    "## 1. <a id='toc1_'></a>[Problem 1: Production economy and CO2 taxation](#toc0_)"
   ]
  },
  {
   "cell_type": "markdown",
   "metadata": {},
   "source": [
    "Consider a production economy with two firms indexed by $j \\in \\{1,2\\}$. Each produce its own good. They solve\n",
    "\n",
    "$$\n",
    "\\begin{align*}\n",
    "\\max_{y_{j}}\\pi_{j}&=p_{j}y_{j}-w_{j}\\ell_{j}\\\\\\text{s.t.}\\;&y_{j}=A\\ell_{j}^{\\gamma}.\n",
    "\\end{align*}\n",
    "$$\n",
    "\n",
    "Optimal firm behavior is\n",
    "\n",
    "$$\n",
    "\\begin{align*}\n",
    "\\ell_{j}^{\\star}(w,p_{j})&=\\left(\\frac{p_{j}A\\gamma}{w}\\right)^{\\frac{1}{1-\\gamma}} \\\\\n",
    "y_{j}^{\\star}(w,p_{j})&=A\\left(\\ell_{j}^{\\star}(w,p_{j})\\right)^{\\gamma}\n",
    "\\end{align*}\n",
    "$$\n",
    "\n",
    "The implied profits are\n",
    "\n",
    "$$\n",
    "\\pi_{j}^*(w,p_{j})=\\frac{1-\\gamma}{\\gamma}w\\cdot\\left(\\frac{p_{j}A\\gamma}{w}\\right)^{\\frac{1}{1-\\gamma}}\n",
    "$$\n",
    "\n",
    "A single consumer supplies labor, and consumes the goods the firms produce. She also recieves the implied profits of the firm.<br>\n",
    "She solves:\n",
    "\n",
    "$$\n",
    "\\begin{align*}\n",
    "U(p_1,p_2,w,\\tau,T) = \\max_{c_{1},c_{2},\\ell} & \\log(c_{1}^{\\alpha}c_{2}^{1-\\alpha})-\\nu\\frac{\\ell^{1+\\epsilon}}{1+\\epsilon} \\\\\n",
    "\\text{s.t.}\\,\\,\\,&p_{1}c_{1}+(p_{2}+\\tau)c_{2}=w\\ell+T+\\pi_{1}^*(w,p_{1})+\\pi_{2}^*(w,p_{2})\n",
    "\\end{align*}\n",
    "$$\n",
    "\n",
    "where $\\tau$ is a tax and $T$ is lump-sum transfer. <br>\n",
    "For a given $\\ell$, it can be shown that optimal behavior is\n",
    "\n",
    "$$\n",
    "\\begin{align*}\n",
    "c_{1}(\\ell)&=\\alpha\\frac{w\\ell+T+\\pi_{1}^*(w,p_{1})+\\pi_{2}^*(w,p_{2})}{p_{1}} \\\\\n",
    "c_{2}(\\ell)&=(1-\\alpha)\\frac{w\\ell+T+\\pi_{1}^*(w,p_{1})+\\pi_{2}^*(w,p_{2})}{p_{2}+\\tau} \\\\\n",
    "\\end{align*}\n",
    "$$\n",
    "Such that optimal behavior is:\n",
    "$$\n",
    "\\ell^* = \\underset{\\ell}{\\arg\\max} \\log(\\left(c_{1}(\\ell)\\right)^{\\alpha}\\cdot \\left(c_{2}(\\ell)\\right)^{1-\\alpha})-\\nu\\frac{\\ell^{1+\\epsilon}}{1+\\epsilon} \n",
    "$$\n",
    "With optimal consumption:\n",
    "$$\n",
    "\\begin{align*}\n",
    "c_1^*=c_{1}(\\ell^*) \\\\\n",
    "c_2^*=c_{2}(\\ell^*)\\\\\n",
    "\\end{align*}\n",
    "$$\n",
    "\n",
    "\n",
    "The government chooses $\\tau$ and balances its budget so $T=\\tau c_2^*$. We initially set $\\tau,T=0$.\n",
    "\n",
    "Market clearing requires:\n",
    "\n",
    "1. Labor market: $\\ell^* = \\ell_1^* + \\ell_2^*$\n",
    "1. Good market 1: $c_1^* = y_1^*$\n",
    "1. Good market 2: $c_2^* = y_2^*$\n"
   ]
  },
  {
   "cell_type": "markdown",
   "metadata": {},
   "source": [
    "**Question 1:** Check market clearing conditions for $p_1$ in `linspace(0.1,2.0,10)` and $p_2$ in `linspace(0.1,2.0,10)`. We choose $w=1$ as numeraire."
   ]
  },
  {
   "cell_type": "code",
   "execution_count": 84,
   "metadata": {},
   "outputs": [],
   "source": [
    "par = SimpleNamespace()\n",
    "\n",
    "# firms\n",
    "par.A = 1.0\n",
    "par.gamma = 0.5\n",
    "\n",
    "# households\n",
    "par.alpha = 0.3\n",
    "par.nu = 1.0\n",
    "par.epsilon = 2.0\n",
    "\n",
    "# government\n",
    "par.tau = 0.0\n",
    "par.T = 0.0\n",
    "\n",
    "# Question 3\n",
    "par.kappa = 0.1"
   ]
  },
  {
   "cell_type": "code",
   "execution_count": 85,
   "metadata": {},
   "outputs": [],
   "source": [
    "# answer\n",
    "\n",
    "# optimal firm behaviour\n",
    "\n",
    "def labour_j(wage, price):\n",
    "    l = (price * par.A * par.gamma / wage) ** (1 / 1-par.gamma)\n",
    "    return l\n",
    "\n",
    "def good_j(wage, price):\n",
    "    y = (par.A * labour_j(wage, price)) ** par.gamma\n",
    "    return y\n",
    "\n",
    "def profit_j(wage, price):\n",
    "    pi = (1-par.gamma/par.gamma)*wage * labour_j(wage, price)\n",
    "    return pi\n",
    "\n",
    "\n",
    "\n",
    "def c_1(l, wage, p1, p2):\n",
    "    num = wage*l + par.T + profit_j(wage, p1) + profit_j(wage, p2)\n",
    "    c1 = par.alpha * num / p1\n",
    "    return c1\n",
    "\n",
    "def c_2(l, wage, p1, p2):\n",
    "    num = wage*l + par.T + profit_j(wage, p1) + profit_j(wage, p2)\n",
    "    c2 = (1-par.alpha) * num / (p2 + par.tau)\n",
    "    return c2"
   ]
  },
  {
   "cell_type": "code",
   "execution_count": 86,
   "metadata": {},
   "outputs": [],
   "source": [
    "def l_star(l, wage, p1, p2):\n",
    "    ln = c_1(l, wage, p1, p2) ** par.alpha * c_2(l, wage, p1, p2) ** (1-par.alpha)\n",
    "    lstar = math.log(ln) - par.nu * (l ** (1+par.epsilon) / 1+par.epsilon)\n",
    "    return lstar"
   ]
  },
  {
   "cell_type": "code",
   "execution_count": 87,
   "metadata": {},
   "outputs": [],
   "source": [
    "# define the numeraire\n",
    "w = 1"
   ]
  },
  {
   "cell_type": "code",
   "execution_count": 88,
   "metadata": {},
   "outputs": [
    {
     "name": "stdout",
     "output_type": "stream",
     "text": [
      "[0.1        0.31111111 0.52222222 0.73333333 0.94444444 1.15555556\n",
      " 1.36666667 1.57777778 1.78888889 2.        ]\n"
     ]
    }
   ],
   "source": [
    "# price arrays\n",
    "p_1 = np.linspace(0.1, 2.0, 10)\n",
    "p_2 = np.linspace(0.1, 2.0, 10)\n",
    "\n",
    "print(p_1)"
   ]
  },
  {
   "cell_type": "markdown",
   "metadata": {},
   "source": [
    "here, I try to calculate $l^* = argmax ...$ for a given price of 0.1:"
   ]
  },
  {
   "cell_type": "code",
   "execution_count": 89,
   "metadata": {},
   "outputs": [
    {
     "name": "stdout",
     "output_type": "stream",
     "text": [
      "0.22360679774997896\n",
      "0.39440531887330776\n",
      "0.510990323891863\n",
      "0.6055300708194983\n",
      "0.6871842709362768\n",
      "0.760116950066092\n",
      "0.8266397845091497\n",
      "0.8881941729649485\n",
      "0.9457507306074072\n",
      "1.0\n"
     ]
    }
   ],
   "source": [
    "# find out range of l_star\n",
    "for i in p_1:\n",
    "    print(labour_j(w, i))"
   ]
  },
  {
   "cell_type": "code",
   "execution_count": 121,
   "metadata": {},
   "outputs": [
    {
     "name": "stdout",
     "output_type": "stream",
     "text": [
      "0.4472135954999579 2.0\n",
      "[1.00000e-10 3.00004e-05 6.00007e-05 ... 2.99994e+00 2.99997e+00\n",
      " 3.00000e+00]\n",
      "100000\n"
     ]
    }
   ],
   "source": [
    "# create array for possible (l1 + l2)\n",
    "\n",
    "lowerend = labour_j(w, p_1[0]) + labour_j(w, p_2[0])\n",
    "upperend = labour_j(w, p_1[9]) + labour_j(w, p_2[9])\n",
    "# l_array = np.linspace(lowerend, upperend, 100000)\n",
    "\n",
    "print(lowerend, upperend)\n",
    "\n",
    "l_array = np.linspace(0.0000000001, 3, 100000)\n",
    "print(l_array)\n",
    "print(len(l_array))"
   ]
  },
  {
   "cell_type": "code",
   "execution_count": 122,
   "metadata": {},
   "outputs": [
    {
     "name": "stdout",
     "output_type": "stream",
     "text": [
      "max value is: -1.0078166387168181\n",
      "The row index of l* is: 23112\n"
     ]
    }
   ],
   "source": [
    "# maximize over l_array given p=0.1\n",
    "result_list = []\n",
    "\n",
    "for x in l_array:\n",
    "    lstar_value = l_star(x, w, 0.1, 0.1) # calculation of l_star\n",
    "    result_list.append([lstar_value]) # appending result to list\n",
    "\n",
    "updated_array = np.array(result_list)\n",
    "\n",
    "\n",
    "# maximal value in the column\n",
    "max_value = np.max(updated_array)\n",
    "print(f'max value is: {max_value}')\n",
    "\n",
    "row_index = np.argmax(updated_array)\n",
    "print(f\"The row index of l* is: {row_index}\")\n",
    "\n",
    "row_with_max = updated_array[row_index]\n",
    "# print(f\"l* with corresponding l, p1, and p2 (which maximise l): {row_with_max}\")\n",
    "\n",
    "# print(\"Length of the array:\", len(updated_array))\n",
    "# print(updated_array)"
   ]
  },
  {
   "cell_type": "code",
   "execution_count": 123,
   "metadata": {},
   "outputs": [
    {
     "name": "stdout",
     "output_type": "stream",
     "text": [
      "best l (l*) for p1 = p2 = 0.1 is: 0.6933669337462245\n"
     ]
    }
   ],
   "source": [
    "print(f'best l (l*) for p1 = p2 = 0.1 is: {l_array[row_index]}')"
   ]
  },
  {
   "cell_type": "code",
   "execution_count": 125,
   "metadata": {},
   "outputs": [
    {
     "name": "stdout",
     "output_type": "stream",
     "text": [
      "results (max l_star function, l*, p1, p2):\n",
      "[[-1.00781664  0.69336693  0.1         0.1       ]\n",
      " [-1.80230259  0.69336693  0.1         0.31111111]\n",
      " [-2.16486276  0.69336693  0.1         0.52222222]\n",
      " [-2.40251775  0.69336693  0.1         0.73333333]\n",
      " [-2.57961531  0.69336693  0.1         0.94444444]\n",
      " [-2.72083306  0.69336693  0.1         1.15555556]\n",
      " [-2.83828848  0.69336693  0.1         1.36666667]\n",
      " [-2.93883837  0.69336693  0.1         1.57777778]\n",
      " [-3.02674249  0.69336693  0.1         1.78888889]\n",
      " [-3.10482923  0.69336693  0.1         2.        ]\n",
      " [-1.34831062  0.69336693  0.31111111  0.1       ]\n",
      " [-2.14279657  0.69336693  0.31111111  0.31111111]\n",
      " [-2.50535674  0.69336693  0.31111111  0.52222222]\n",
      " [-2.74301173  0.69336693  0.31111111  0.73333333]\n",
      " [-2.92010929  0.69336693  0.31111111  0.94444444]\n",
      " [-3.06132704  0.69336693  0.31111111  1.15555556]\n",
      " [-3.17878246  0.69336693  0.31111111  1.36666667]\n",
      " [-3.27933235  0.69336693  0.31111111  1.57777778]\n",
      " [-3.36723647  0.69336693  0.31111111  1.78888889]\n",
      " [-3.44532321  0.69336693  0.31111111  2.        ]\n",
      " [-1.50369355  0.69336693  0.52222222  0.1       ]\n",
      " [-2.2981795   0.69336693  0.52222222  0.31111111]\n",
      " [-2.66073966  0.69336693  0.52222222  0.52222222]\n",
      " [-2.89839466  0.69336693  0.52222222  0.73333333]\n",
      " [-3.07549222  0.69336693  0.52222222  0.94444444]\n",
      " [-3.21670997  0.69336693  0.52222222  1.15555556]\n",
      " [-3.33416539  0.69336693  0.52222222  1.36666667]\n",
      " [-3.43471528  0.69336693  0.52222222  1.57777778]\n",
      " [-3.5226194   0.69336693  0.52222222  1.78888889]\n",
      " [-3.60070614  0.69336693  0.52222222  2.        ]\n",
      " [-1.60554569  0.69336693  0.73333333  0.1       ]\n",
      " [-2.40003164  0.69336693  0.73333333  0.31111111]\n",
      " [-2.76259181  0.69336693  0.73333333  0.52222222]\n",
      " [-3.0002468   0.69336693  0.73333333  0.73333333]\n",
      " [-3.17734436  0.69336693  0.73333333  0.94444444]\n",
      " [-3.31856211  0.69336693  0.73333333  1.15555556]\n",
      " [-3.43601753  0.69336693  0.73333333  1.36666667]\n",
      " [-3.53656742  0.69336693  0.73333333  1.57777778]\n",
      " [-3.62447154  0.69336693  0.73333333  1.78888889]\n",
      " [-3.70255828  0.69336693  0.73333333  2.        ]\n",
      " [-1.68144464  0.69336693  0.94444444  0.1       ]\n",
      " [-2.4759306   0.69336693  0.94444444  0.31111111]\n",
      " [-2.83849076  0.69336693  0.94444444  0.52222222]\n",
      " [-3.07614576  0.69336693  0.94444444  0.73333333]\n",
      " [-3.25324332  0.69336693  0.94444444  0.94444444]\n",
      " [-3.39446107  0.69336693  0.94444444  1.15555556]\n",
      " [-3.51191649  0.69336693  0.94444444  1.36666667]\n",
      " [-3.61246638  0.69336693  0.94444444  1.57777778]\n",
      " [-3.70037049  0.69336693  0.94444444  1.78888889]\n",
      " [-3.77845723  0.69336693  0.94444444  2.        ]\n",
      " [-1.74196654  0.69336693  1.15555556  0.1       ]\n",
      " [-2.53645249  0.69336693  1.15555556  0.31111111]\n",
      " [-2.89901265  0.69336693  1.15555556  0.52222222]\n",
      " [-3.13666765  0.69336693  1.15555556  0.73333333]\n",
      " [-3.31376521  0.69336693  1.15555556  0.94444444]\n",
      " [-3.45498296  0.69336693  1.15555556  1.15555556]\n",
      " [-3.57243838  0.69336693  1.15555556  1.36666667]\n",
      " [-3.67298827  0.69336693  1.15555556  1.57777778]\n",
      " [-3.76089239  0.69336693  1.15555556  1.78888889]\n",
      " [-3.83897913  0.69336693  1.15555556  2.        ]\n",
      " [-1.79230457  0.69336693  1.36666667  0.1       ]\n",
      " [-2.58679053  0.69336693  1.36666667  0.31111111]\n",
      " [-2.94935069  0.69336693  1.36666667  0.52222222]\n",
      " [-3.18700569  0.69336693  1.36666667  0.73333333]\n",
      " [-3.36410325  0.69336693  1.36666667  0.94444444]\n",
      " [-3.505321    0.69336693  1.36666667  1.15555556]\n",
      " [-3.62277642  0.69336693  1.36666667  1.36666667]\n",
      " [-3.72332631  0.69336693  1.36666667  1.57777778]\n",
      " [-3.81123042  0.69336693  1.36666667  1.78888889]\n",
      " [-3.88931716  0.69336693  1.36666667  2.        ]\n",
      " [-1.83539738  0.69336693  1.57777778  0.1       ]\n",
      " [-2.62988334  0.69336693  1.57777778  0.31111111]\n",
      " [-2.9924435   0.69336693  1.57777778  0.52222222]\n",
      " [-3.2300985   0.69336693  1.57777778  0.73333333]\n",
      " [-3.40719606  0.69336693  1.57777778  0.94444444]\n",
      " [-3.54841381  0.69336693  1.57777778  1.15555556]\n",
      " [-3.66586923  0.69336693  1.57777778  1.36666667]\n",
      " [-3.76641912  0.69336693  1.57777778  1.57777778]\n",
      " [-3.85432323  0.69336693  1.57777778  1.78888889]\n",
      " [-3.93240997  0.69336693  1.57777778  2.        ]\n",
      " [-1.87307058  0.69336693  1.78888889  0.1       ]\n",
      " [-2.66755653  0.69336693  1.78888889  0.31111111]\n",
      " [-3.03011669  0.69336693  1.78888889  0.52222222]\n",
      " [-3.26777169  0.69336693  1.78888889  0.73333333]\n",
      " [-3.44486925  0.69336693  1.78888889  0.94444444]\n",
      " [-3.586087    0.69336693  1.78888889  1.15555556]\n",
      " [-3.70354242  0.69336693  1.78888889  1.36666667]\n",
      " [-3.80409231  0.69336693  1.78888889  1.57777778]\n",
      " [-3.89199643  0.69336693  1.78888889  1.78888889]\n",
      " [-3.97008317  0.69336693  1.78888889  2.        ]\n",
      " [-1.90653632  0.69336693  2.          0.1       ]\n",
      " [-2.70102227  0.69336693  2.          0.31111111]\n",
      " [-3.06358244  0.69336693  2.          0.52222222]\n",
      " [-3.30123744  0.69336693  2.          0.73333333]\n",
      " [-3.478335    0.69336693  2.          0.94444444]\n",
      " [-3.61955275  0.69336693  2.          1.15555556]\n",
      " [-3.73700817  0.69336693  2.          1.36666667]\n",
      " [-3.83755806  0.69336693  2.          1.57777778]\n",
      " [-3.92546217  0.69336693  2.          1.78888889]\n",
      " [-4.00354891  0.69336693  2.          2.        ]]\n"
     ]
    }
   ],
   "source": [
    "# calculate l* for every combination of p1 and p2\n",
    "\n",
    "result_list = []\n",
    "\n",
    "for p1 in p_1:\n",
    "    for p2 in p_2:\n",
    "        best_l_star = -np.inf\n",
    "        best_l = None\n",
    "        for x in l_array:\n",
    "            lstar_value = l_star(x, w, p1, p2)\n",
    "            if lstar_value > best_l_star:\n",
    "                best_l_star = lstar_value\n",
    "                best_l = x\n",
    "        # saving the best l* values for the used p1-p2 combination\n",
    "        result_list.append([best_l_star, best_l, p1, p2])\n",
    "\n",
    "# converting the result list in a numpy array\n",
    "result_array = np.array(result_list)\n",
    "\n",
    "print(\"results (max l_star function, l*, p1, p2):\")\n",
    "print(result_array)"
   ]
  },
  {
   "cell_type": "code",
   "execution_count": 127,
   "metadata": {},
   "outputs": [
    {
     "name": "stdout",
     "output_type": "stream",
     "text": [
      "2.08010079\n",
      "4.85356851\n",
      "0.4728708045015879\n"
     ]
    }
   ],
   "source": [
    "# check for market clearing\n",
    "\n",
    "print(c_1(0.69336693, w, 0.1, 0.1))\n",
    "print(c_2(0.69336693, w, 0.1, 0.1))\n",
    "print(good_j(w, 0.1))\n",
    "\n",
    "for p1 in p_1:\n",
    "    for p2 in p_2:\n",
    "        if c_1(0.69336693, w, p1, p2) == good_j(w, p1) and c_2(max_value, w, p1, p2) == good_j(w, p2):\n",
    "            print(p1, p2)"
   ]
  },
  {
   "cell_type": "code",
   "execution_count": 133,
   "metadata": {},
   "outputs": [
    {
     "name": "stdout",
     "output_type": "stream",
     "text": [
      "p1, p2 combination for minimal error:\n",
      "error: -1.653316535\n",
      "p1: 2.0\n",
      "p2: 2.0\n"
     ]
    }
   ],
   "source": [
    "# check for market clearing, attempt 2 with minimizing the error of the market clearing conditions\n",
    "\n",
    "def error(x, w, p1, p2):\n",
    "    return (c_1(x, w, p1, p2) - good_j(w, p1) + c_2(x, w, p1, p2) - good_j(w, p2))\n",
    "\n",
    "best_l_for_error = 0.69336693\n",
    "\n",
    "result_list = []\n",
    "\n",
    "for p1 in p_1:\n",
    "    for p2 in p_2:\n",
    "        eps = error(best_l_for_error, w, p1, p2)\n",
    "        result_list.append([eps, p1, p2])\n",
    "\n",
    "result_array = np.array(result_list)\n",
    "\n",
    "# combination with lowest error\n",
    "min_index = np.argmin(result_array[:, 0])\n",
    "min_error, best_p1, best_p2 = result_array[min_index]\n",
    "\n",
    "\n",
    "print(\"p1, p2 combination for minimal error:\")\n",
    "print(f\"error: {min_error}\")\n",
    "print(f\"p1: {best_p1}\")\n",
    "print(f\"p2: {best_p2}\")"
   ]
  },
  {
   "cell_type": "code",
   "execution_count": 135,
   "metadata": {},
   "outputs": [
    {
     "data": {
      "image/png": "[encoded data removed]",
      "text/plain": [
       "<Figure size 640x480 with 2 Axes>"
      ]
     },
     "metadata": {},
     "output_type": "display_data"
    }
   ],
   "source": [
    "from mpl_toolkits.mplot3d import Axes3D\n",
    "\n",
    "p1_values = result_array[:, 1]\n",
    "p2_values = result_array[:, 2]\n",
    "error_values = result_array[:, 0]\n",
    "\n",
    "fig = plt.figure()\n",
    "ax = fig.add_subplot(111, projection='3d')\n",
    "\n",
    "scatter = ax.scatter(p1_values, p2_values, error_values, c=error_values, cmap='viridis')\n",
    "\n",
    "ax.set_xlabel('p1')\n",
    "ax.set_ylabel('p2')\n",
    "ax.set_zlabel('Error')\n",
    "\n",
    "ax.invert_yaxis()\n",
    "\n",
    "colorbar = fig.colorbar(scatter, ax=ax, label='Error Value')\n",
    "\n",
    "plt.show()"
   ]
  },
  {
   "cell_type": "markdown",
   "metadata": {},
   "source": [
    "**Question 2:** Find the equilibrium prices $p_1$ and $p_2$.<br>\n",
    "*Hint: you can use Walras' law to only check 2 of the market clearings*"
   ]
  },
  {
   "cell_type": "code",
   "execution_count": null,
   "metadata": {},
   "outputs": [],
   "source": [
    "# write your answer here"
   ]
  },
  {
   "cell_type": "markdown",
   "metadata": {},
   "source": [
    "Assume the government care about the social welfare function:\n",
    "\n",
    "$$\n",
    "SWF = U - \\kappa y_2^*\n",
    "$$"
   ]
  },
  {
   "cell_type": "markdown",
   "metadata": {},
   "source": [
    "Here $\\kappa$ measures the social cost of carbon emitted by the production of $y_2$ in equilibrium."
   ]
  },
  {
   "cell_type": "markdown",
   "metadata": {},
   "source": [
    "**Question 3:** What values of $\\tau$ and (implied) $T$ should the government choose to maximize $SWF$?"
   ]
  },
  {
   "cell_type": "code",
   "execution_count": null,
   "metadata": {},
   "outputs": [],
   "source": [
    "# write your answer here"
   ]
  },
  {
   "cell_type": "markdown",
   "metadata": {},
   "source": [
    "## 2. <a id='toc2_'></a>[Problem 2: Career choice model](#toc0_)"
   ]
  },
  {
   "cell_type": "markdown",
   "metadata": {},
   "source": [
    "Consider a graduate $i$ making a choice between entering $J$ different career tracks. <br>\n",
    "Entering career $j$ yields utility $u^k_{ij}$. This value is unknown to the graduate ex ante, but will ex post be: <br>\n",
    "$$\n",
    "    u_{i,j}^k = v_{j} + \\epsilon_{i,j}^k\n",
    "$$\n",
    "\n",
    "They know that $\\epsilon^k_{i,j}\\sim \\mathcal{N}(0,\\sigma^2)$, but they do not observe $\\epsilon^k_{i,j}$ before making their career choice. <br>"
   ]
  },
  {
   "cell_type": "markdown",
   "metadata": {},
   "source": [
    "Consider the concrete case of $J=3$ with:\n",
    "$$\n",
    "\\begin{align*}\n",
    "    v_{1} &= 1 \\\\\n",
    "    v_{2} &= 2 \\\\\n",
    "    v_{3} &= 3\n",
    "\\end{align*}\n",
    "$$"
   ]
  },
  {
   "cell_type": "markdown",
   "metadata": {},
   "source": [
    "If the graduates know the values of $v_j$ and the distribution of $\\epsilon_{i,j}^k$, they can calculate the expected utility of each career track using simulation: <br>\n",
    "$$\n",
    "    \\mathbb{E}\\left[ u^k_{i,j}\\vert v_j \\right] \\approx v_j + \\frac{1}{K}\\sum_{k=1}^K \\epsilon_{i,j}^k\n",
    "$$"
   ]
  },
  {
   "cell_type": "code",
   "execution_count": null,
   "metadata": {},
   "outputs": [],
   "source": [
    "par = SimpleNamespace()\n",
    "par.J = 3\n",
    "par.N = 10\n",
    "par.K = 10000\n",
    "\n",
    "par.F = np.arange(1,par.N+1)\n",
    "par.sigma = 2\n",
    "\n",
    "par.v = np.array([1,2,3])\n",
    "par.c = 1"
   ]
  },
  {
   "cell_type": "markdown",
   "metadata": {},
   "source": [
    "**Question 1:** Simulate and calculate expected utility and the average realised utility for $K=10000$ draws, for each career choice $j$.\n"
   ]
  },
  {
   "cell_type": "code",
   "execution_count": null,
   "metadata": {},
   "outputs": [],
   "source": [
    "# write your answer here"
   ]
  },
  {
   "cell_type": "markdown",
   "metadata": {},
   "source": [
    "Now consider a new scenario: Imagine that the graduate does not know $v_j$. The *only* prior information they have on the value of each job, comes from their $F_{i}$ friends that work in each career $j$. After talking with them, they know the average utility of their friends (which includes their friends' noise term), giving them the prior expecation: <br>\n",
    "$$\n",
    "\\tilde{u}^k_{i,j}\\left( F_{i}\\right) = \\frac{1}{F_{i}}\\sum_{f=1}^{F_{i}} \\left(v_{j} + \\epsilon^k_{f,j}\\right), \\; \\epsilon^k_{f,j}\\sim \\mathcal{N}(0,\\sigma^2)\n",
    "$$\n",
    "For ease of notation consider that each graduate have $F_{i}=i$ friends in each career. <br>"
   ]
  },
  {
   "cell_type": "markdown",
   "metadata": {},
   "source": [
    "For $K$ times do the following: <br>\n",
    "1. For each person $i$ draw $J\\cdot F_i$ values of $\\epsilon_{f,j}^{k}$, and calculate the prior expected utility of each career track, $\\tilde{u}^k_{i,j}\\left( F_{i}\\right)$. <br>\n",
    "Also draw their own $J$ noise terms, $\\epsilon_{i,j}^k$\n",
    "1. Each person $i$ chooses the career track with the highest expected utility: $$j_i^{k*}= \\arg\\max_{j\\in{1,2\\dots,J}}\\left\\{ \\tilde{u}^k_{i,j}\\left( F_{i}\\right)\\right\\} $$\n",
    "1. Store the chosen careers: $j_i^{k*}$, the prior expectation of the value of their chosen career: $\\tilde{u}^k_{i,j=j_i^{k*}}\\left( F_{i}\\right)$, and the realized value of their chosen career track: $u^k_{i,j=j_i^{k*}}=v_{j=j_i^{k*}}+\\epsilon_{i,j=j_i^{k*}}^k$."
   ]
  },
  {
   "cell_type": "markdown",
   "metadata": {},
   "source": [
    "Chosen values will be: <br>\n",
    "$i\\in\\left\\{1,2\\dots,N\\right\\}, N=10$ <br>\n",
    "$F_i = i$<br>\n",
    "So there are 10 graduates. The first has 1 friend in each career, the second has 2 friends, ... the tenth has 10 friends."
   ]
  },
  {
   "cell_type": "markdown",
   "metadata": {},
   "source": [
    "**Question 2:** Simulate and visualize: For each type of graduate, $i$, the share of graduates choosing each career, the average subjective expected utility of the graduates, and the average ex post realized utility given their choice. <br>\n",
    "That is, calculate and visualize: <br>\n",
    "$$\n",
    "\\begin{align*}\n",
    "    \\frac{1}{K} \\sum_{k=1}^{K} \\mathbb{I}\\left\\{ j=j_i^{k*} \\right\\}  \\;\\forall j\\in\\left\\{1,2,\\dots,J\\right\\}\n",
    "\\end{align*}\n",
    "$$\n",
    "$$\n",
    "\\begin{align*}\n",
    "    \\frac{1}{K} \\sum_{k=1}^{K} \\tilde{u}^k_{ij=j_i^{k*}}\\left( F_{i}\\right)\n",
    "\\end{align*}\n",
    "$$\n",
    "And \n",
    "$$\n",
    "\\begin{align*}\n",
    "    \\frac{1}{K} \\sum_{k=1}^{K} u^k_{ij=j_i^{k*}} \n",
    "\\end{align*}\n",
    "$$\n",
    "For each graduate $i$."
   ]
  },
  {
   "cell_type": "code",
   "execution_count": null,
   "metadata": {},
   "outputs": [],
   "source": [
    "# Write your answer here "
   ]
  },
  {
   "cell_type": "markdown",
   "metadata": {},
   "source": [
    "After a year of working in their career, the graduates learn $u^k_{ij}$ for their chosen job $j_i^{k*}$ perfectly. <br>\n",
    "The can switch to one of the two remaining careers, for which they have the same prior as before, but it will now include a switching cost of $c$ which is known.\n",
    "Their new priors can be written as: \n",
    "$$\n",
    "\\tilde{u}^{k,2}_{ij}\\left( F_{i}\\right) = \\begin{cases}\n",
    "            \\tilde{u}^k_{ij}\\left( F_{i}\\right)-c & \\text{if } j \\neq j_i^{k*} \\\\\n",
    "            u_{ij=j_i^{k*}} & \\text{if } j = j_i^{k*}\n",
    "        \\end{cases}\n",
    "$$"
   ]
  },
  {
   "cell_type": "markdown",
   "metadata": {},
   "source": [
    "We will set $c=1$."
   ]
  },
  {
   "cell_type": "markdown",
   "metadata": {},
   "source": [
    "Their realized utility will be: <br>\n",
    "$$\n",
    "u^{k,2}_{ij}= \\begin{cases}\n",
    "            u_{ij}^k -c & \\text{if } j \\neq j_i^{k*} \\\\\n",
    "            u_{ij=j_i^{k*}} & \\text{if } j = j_i^{k*}\n",
    "        \\end{cases}\n",
    "$$"
   ]
  },
  {
   "cell_type": "markdown",
   "metadata": {},
   "source": [
    "**Question 3:** Following the same approach as in question 2, find the new optimal career choice for each $i$, $k$. Then for each $i$, calculate the average subjective expected utility from their new optimal career choice, and the ex post realized utility of that career. Also, for each $i$, calculate the share of graduates that chooses to switch careers, conditional on which career they chose in the first year. <br>"
   ]
  },
  {
   "cell_type": "code",
   "execution_count": null,
   "metadata": {},
   "outputs": [],
   "source": [
    "# write your answer here"
   ]
  },
  {
   "cell_type": "markdown",
   "metadata": {},
   "source": [
    "## 3. <a id='toc3_'></a>[Problem 3: Barycentric interpolation](#toc0_)"
   ]
  },
  {
   "cell_type": "markdown",
   "metadata": {},
   "source": [
    "**Problem:** We have a set of random points in the unit square,\n",
    "\n",
    "$$\n",
    "\\mathcal{X} = \\{(x_1,x_2)\\,|\\,x_1\\sim\\mathcal{U}(0,1),x_2\\sim\\mathcal{U}(0,1)\\}.\n",
    "$$\n",
    "\n",
    "For these points, we know the value of some function $f(x_1,x_2)$,\n",
    "\n",
    "$$\n",
    "\\mathcal{F} = \\{f(x_1,x_2) \\,|\\, (x_1,x_2) \\in \\mathcal{X}\\}.\n",
    "$$\n",
    "\n",
    "Now we want to approximate the value $f(y_1,y_2)$ for some  $y=(y_1,y_2)$, where $y_1\\sim\\mathcal{U}(0,1)$ and $y_2\\sim\\mathcal{U}(0,1)$.\n",
    "\n",
    "**Building block I**\n",
    "\n",
    "For an arbitrary triangle $ABC$ and a point $y$, define the so-called barycentric coordinates as:\n",
    "\n",
    "$$\n",
    "\\begin{align*}\n",
    "  r^{ABC}_1 &= \\frac{(B_2-C_2)(y_1-C_1) + (C_1-B_1)(y_2-C_2)}{(B_2-C_2)(A_1-C_1) + (C_1-B_1)(A_2-C_2)} \\\\\n",
    "  r^{ABC}_2 &= \\frac{(C_2-A_2)(y_1-C_1) + (A_1-C_1)(y_2-C_2)}{(B_2-C_2)(A_1-C_1) + (C_1-B_1)(A_2-C_2)} \\\\\n",
    "  r^{ABC}_3 &= 1 - r_1 - r_2.\n",
    "\\end{align*}\n",
    "$$\n",
    "\n",
    "If $r^{ABC}_1 \\in [0,1]$, $r^{ABC}_2 \\in [0,1]$, and $r^{ABC}_3 \\in [0,1]$, then the point is inside the triangle.\n",
    "\n",
    "We always have $y = r^{ABC}_1 A + r^{ABC}_2 B + r^{ABC}_3 C$.\n",
    "\n",
    "**Building block II**\n",
    "\n",
    "Define the following points:\n",
    "\n",
    "$$\n",
    "\\begin{align*}\n",
    "A&=\\arg\\min_{(x_{1},x_{2})\\in\\mathcal{X}}\\sqrt{\\left(x_{1}-y_{1}\\right)^{2}+\\left(x_{2}-y_{2}\\right)^{2}}\\text{ s.t. }x_{1}>y_{1}\\text{ and }x_{2}>y_{2}\\\\\n",
    "B&=\\arg\\min_{(x_{1},x_{2})\\in\\mathcal{X}}\\sqrt{\\left(x_{1}-y_{1}\\right)^{2}+\\left(x_{2}-y_{2}\\right)^{2}}\\text{ s.t. }x_{1}>y_{1}\\text{ and }x_{2}<y_{2}\\\\\n",
    "C&=\\arg\\min_{(x_{1},x_{2})\\in\\mathcal{X}}\\sqrt{\\left(x_{1}-y_{1}\\right)^{2}+\\left(x_{2}-y_{2}\\right)^{2}}\\text{ s.t. }x_{1}<y_{1}\\text{ and }x_{2}<y_{2}\\\\\n",
    "D&=\\arg\\min_{(x_{1},x_{2})\\in\\mathcal{X}}\\sqrt{\\left(x_{1}-y_{1}\\right)^{2}+\\left(x_{2}-y_{2}\\right)^{2}}\\text{ s.t. }x_{1}<y_{1}\\text{ and }x_{2}>y_{2}.\n",
    "\\end{align*}\n",
    "$$\n",
    "\n",
    "**Algorithm:**\n",
    "\n",
    "1. Compute $A$, $B$, $C$, and $D$. If not possible return `NaN`.\n",
    "1. If $y$ is inside the triangle $ABC$ return $r^{ABC}_1 f(A) + r^{ABC}_2 f(B) + r^{ABC}_3 f(C)$.\n",
    "1. If $y$ is inside the triangle $CDA$ return $r^{CDA}_1 f(C) + r^{CDA}_2 f(D) + r^{CDA}_3 f(A)$.\n",
    "1. Return `NaN`.\n",
    "\n"
   ]
  },
  {
   "cell_type": "markdown",
   "metadata": {},
   "source": [
    "**Sample:**"
   ]
  },
  {
   "cell_type": "code",
   "execution_count": null,
   "metadata": {},
   "outputs": [],
   "source": [
    "rng = np.random.default_rng(2024)\n",
    "\n",
    "X = rng.uniform(size=(50,2))\n",
    "y = rng.uniform(size=(2,))\n"
   ]
  },
  {
   "cell_type": "markdown",
   "metadata": {},
   "source": [
    "**Questions 1:** Find $A$, $B$, $C$ and $D$. Illustrate these together with $X$, $y$ and the triangles $ABC$ and $CDA$."
   ]
  },
  {
   "cell_type": "code",
   "execution_count": null,
   "metadata": {},
   "outputs": [],
   "source": [
    "# write your answer here"
   ]
  },
  {
   "cell_type": "markdown",
   "metadata": {},
   "source": [
    "**Question 2:** Compute the barycentric coordinates of the point $y$ with respect to the triangles $ABC$ and $CDA$. Which triangle is $y$ located inside?"
   ]
  },
  {
   "cell_type": "code",
   "execution_count": null,
   "metadata": {},
   "outputs": [],
   "source": [
    "# write your answer here"
   ]
  },
  {
   "cell_type": "markdown",
   "metadata": {},
   "source": [
    "Now consider the function:\n",
    "$$\n",
    "f(x_1,x_2) = x_1 \\cdot x_2\n",
    "$$"
   ]
  },
  {
   "cell_type": "code",
   "execution_count": null,
   "metadata": {},
   "outputs": [],
   "source": [
    "f = lambda x: x[0]*x[1]\n",
    "F = np.array([f(x) for x in X])"
   ]
  },
  {
   "cell_type": "markdown",
   "metadata": {},
   "source": [
    "**Question 3:** Compute the approximation of $f(y)$ using the full algorithm. Compare with the true value."
   ]
  },
  {
   "cell_type": "code",
   "execution_count": null,
   "metadata": {},
   "outputs": [],
   "source": [
    "# write your answer here"
   ]
  },
  {
   "cell_type": "markdown",
   "metadata": {},
   "source": [
    "**Question 4:** Repeat question 3 for all points in the set $Y$."
   ]
  },
  {
   "cell_type": "code",
   "execution_count": null,
   "metadata": {},
   "outputs": [],
   "source": [
    "Y = [(0.2,0.2),(0.8,0.2),(0.8,0.8),(0.8,0.2),(0.5,0.5)]"
   ]
  },
  {
   "cell_type": "code",
   "execution_count": null,
   "metadata": {},
   "outputs": [],
   "source": [
    "# write your answer here"
   ]
  }
 ],
 "metadata": {
  "kernelspec": {
   "display_name": "base",
   "language": "python",
   "name": "python3"
  },
  "language_info": {
   "codemirror_mode": {
    "name": "ipython",
    "version": 3
   },
   "file_extension": ".py",
   "mimetype": "text/x-python",
   "name": "python",
   "nbconvert_exporter": "python",
   "pygments_lexer": "ipython3",
   "version": "3.11.7"
  }
 },
 "nbformat": 4,
 "nbformat_minor": 2
}
