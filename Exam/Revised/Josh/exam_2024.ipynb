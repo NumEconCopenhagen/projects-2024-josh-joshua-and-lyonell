{
 "cells": [
  {
   "cell_type": "markdown",
   "metadata": {},
   "source": [
    "**Table of contents**<a id='toc0_'></a>    \n",
    "- 1. [Problem 1: Production economy and CO2 taxation](#toc1_)    \n",
    "- 2. [Problem 2: Career choice model](#toc2_)    \n",
    "- 3. [Problem 3: Barycentric interpolation](#toc3_)    \n",
    "\n",
    "<!-- vscode-jupyter-toc-config\n",
    "\tnumbering=true\n",
    "\tanchor=true\n",
    "\tflat=false\n",
    "\tminLevel=2\n",
    "\tmaxLevel=6\n",
    "\t/vscode-jupyter-toc-config -->\n",
    "<!-- THIS CELL WILL BE REPLACED ON TOC UPDATE. DO NOT WRITE YOUR TEXT IN THIS CELL -->"
   ]
  },
  {
   "cell_type": "code",
   "execution_count": 1,
   "metadata": {},
   "outputs": [],
   "source": [
    "# Write your code here\n",
    "import numpy as np\n",
    "from types import SimpleNamespace\n",
    "import matplotlib.pyplot as plt"
   ]
  },
  {
   "cell_type": "markdown",
   "metadata": {},
   "source": [
    "## 1. <a id='toc1_'></a>[Problem 1: Production economy and CO2 taxation](#toc0_)"
   ]
  },
  {
   "cell_type": "markdown",
   "metadata": {},
   "source": [
    "Consider a production economy with two firms indexed by $j \\in \\{1,2\\}$. Each produce its own good. They solve\n",
    "\n",
    "$$\n",
    "\\begin{align*}\n",
    "\\max_{y_{j}}\\pi_{j}&=p_{j}y_{j}-w_{j}\\ell_{j}\\\\\\text{s.t.}\\;&y_{j}=A\\ell_{j}^{\\gamma}.\n",
    "\\end{align*}\n",
    "$$\n",
    "\n",
    "Optimal firm behavior is\n",
    "\n",
    "$$\n",
    "\\begin{align*}\n",
    "\\ell_{j}^{\\star}(w,p_{j})&=\\left(\\frac{p_{j}A\\gamma}{w}\\right)^{\\frac{1}{1-\\gamma}} \\\\\n",
    "y_{j}^{\\star}(w,p_{j})&=A\\left(\\ell_{j}^{\\star}(w,p_{j})\\right)^{\\gamma}\n",
    "\\end{align*}\n",
    "$$\n",
    "\n",
    "The implied profits are\n",
    "\n",
    "$$\n",
    "\\pi_{j}^*(w,p_{j})=\\frac{1-\\gamma}{\\gamma}w\\cdot\\left(\\frac{p_{j}A\\gamma}{w}\\right)^{\\frac{1}{1-\\gamma}}\n",
    "$$\n",
    "\n",
    "A single consumer supplies labor, and consumes the goods the firms produce. She also recieves the implied profits of the firm.<br>\n",
    "She solves:\n",
    "\n",
    "$$\n",
    "\\begin{align*}\n",
    "U(p_1,p_2,w,\\tau,T) = \\max_{c_{1},c_{2},\\ell} & \\log(c_{1}^{\\alpha}c_{2}^{1-\\alpha})-\\nu\\frac{\\ell^{1+\\epsilon}}{1+\\epsilon} \\\\\n",
    "\\text{s.t.}\\,\\,\\,&p_{1}c_{1}+(p_{2}+\\tau)c_{2}=w\\ell+T+\\pi_{1}^*(w,p_{1})+\\pi_{2}^*(w,p_{2})\n",
    "\\end{align*}\n",
    "$$\n",
    "\n",
    "where $\\tau$ is a tax and $T$ is lump-sum transfer. <br>\n",
    "For a given $\\ell$, it can be shown that optimal behavior is\n",
    "\n",
    "$$\n",
    "\\begin{align*}\n",
    "c_{1}(\\ell)&=\\alpha\\frac{w\\ell+T+\\pi_{1}^*(w,p_{1})+\\pi_{2}^*(w,p_{2})}{p_{1}} \\\\\n",
    "c_{2}(\\ell)&=(1-\\alpha)\\frac{w\\ell+T+\\pi_{1}^*(w,p_{1})+\\pi_{2}^*(w,p_{2})}{p_{2}+\\tau} \\\\\n",
    "\\end{align*}\n",
    "$$\n",
    "Such that optimal behavior is:\n",
    "$$\n",
    "\\ell^* = \\underset{\\ell}{\\arg\\max} \\log(\\left(c_{1}(\\ell)\\right)^{\\alpha}\\cdot \\left(c_{2}(\\ell)\\right)^{1-\\alpha})-\\nu\\frac{\\ell^{1+\\epsilon}}{1+\\epsilon} \n",
    "$$\n",
    "With optimal consumption:\n",
    "$$\n",
    "\\begin{align*}\n",
    "c_1^*=c_{1}(\\ell^*) \\\\\n",
    "c_2^*=c_{2}(\\ell^*)\\\\\n",
    "\\end{align*}\n",
    "$$\n",
    "\n",
    "\n",
    "The government chooses $\\tau$ and balances its budget so $T=\\tau c_2^*$. We initially set $\\tau,T=0$.\n",
    "\n",
    "Market clearing requires:\n",
    "\n",
    "1. Labor market: $\\ell^* = \\ell_1^* + \\ell_2^*$\n",
    "1. Good market 1: $c_1^* = y_1^*$\n",
    "1. Good market 2: $c_2^* = y_2^*$\n"
   ]
  },
  {
   "cell_type": "markdown",
   "metadata": {},
   "source": [
    "**Question 1:** Check market clearing conditions for $p_1$ in `linspace(0.1,2.0,10)` and $p_2$ in `linspace(0.1,2.0,10)`. We choose $w=1$ as numeraire."
   ]
  },
  {
   "cell_type": "code",
   "execution_count": 2,
   "metadata": {},
   "outputs": [],
   "source": [
    "par = SimpleNamespace()\n",
    "\n",
    "# firms\n",
    "par.A = 1.0\n",
    "par.gamma = 0.5\n",
    "\n",
    "# households\n",
    "par.alpha = 0.3\n",
    "par.nu = 1.0\n",
    "par.epsilon = 2.0\n",
    "\n",
    "# government\n",
    "par.tau = 0.0\n",
    "par.T = 0.0\n",
    "\n",
    "# Question 3\n",
    "par.kappa = 0.1"
   ]
  },
  {
   "cell_type": "code",
   "execution_count": 3,
   "metadata": {},
   "outputs": [],
   "source": [
    "# write you answer here"
   ]
  },
  {
   "cell_type": "markdown",
   "metadata": {},
   "source": [
    "**Question 2:** Find the equilibrium prices $p_1$ and $p_2$.<br>\n",
    "*Hint: you can use Walras' law to only check 2 of the market clearings*"
   ]
  },
  {
   "cell_type": "code",
   "execution_count": 4,
   "metadata": {},
   "outputs": [],
   "source": [
    "# write your answer here"
   ]
  },
  {
   "cell_type": "markdown",
   "metadata": {},
   "source": [
    "Assume the government care about the social welfare function:\n",
    "\n",
    "$$\n",
    "SWF = U - \\kappa y_2^*\n",
    "$$"
   ]
  },
  {
   "cell_type": "markdown",
   "metadata": {},
   "source": [
    "Here $\\kappa$ measures the social cost of carbon emitted by the production of $y_2$ in equilibrium."
   ]
  },
  {
   "cell_type": "markdown",
   "metadata": {},
   "source": [
    "**Question 3:** What values of $\\tau$ and (implied) $T$ should the government choose to maximize $SWF$?"
   ]
  },
  {
   "cell_type": "code",
   "execution_count": 5,
   "metadata": {},
   "outputs": [],
   "source": [
    "# write your answer here"
   ]
  },
  {
   "cell_type": "markdown",
   "metadata": {},
   "source": [
    "## 2. <a id='toc2_'></a>[Problem 2: Career choice model](#toc0_)"
   ]
  },
  {
   "cell_type": "markdown",
   "metadata": {},
   "source": [
    "Consider a graduate $i$ making a choice between entering $J$ different career tracks. <br>\n",
    "Entering career $j$ yields utility $u^k_{ij}$. This value is unknown to the graduate ex ante, but will ex post be: <br>\n",
    "$$\n",
    "    u_{i,j}^k = v_{j} + \\epsilon_{i,j}^k\n",
    "$$\n",
    "\n",
    "They know that $\\epsilon^k_{i,j}\\sim \\mathcal{N}(0,\\sigma^2)$, but they do not observe $\\epsilon^k_{i,j}$ before making their career choice. <br>"
   ]
  },
  {
   "cell_type": "markdown",
   "metadata": {},
   "source": [
    "Consider the concrete case of $J=3$ with:\n",
    "$$\n",
    "\\begin{align*}\n",
    "    v_{1} &= 1 \\\\\n",
    "    v_{2} &= 2 \\\\\n",
    "    v_{3} &= 3\n",
    "\\end{align*}\n",
    "$$"
   ]
  },
  {
   "cell_type": "markdown",
   "metadata": {},
   "source": [
    "If the graduates know the values of $v_j$ and the distribution of $\\epsilon_{i,j}^k$, they can calculate the expected utility of each career track using simulation: <br>\n",
    "$$\n",
    "    \\mathbb{E}\\left[ u^k_{i,j}\\vert v_j \\right] \\approx v_j + \\frac{1}{K}\\sum_{k=1}^K \\epsilon_{i,j}^k\n",
    "$$"
   ]
  },
  {
   "cell_type": "code",
   "execution_count": 6,
   "metadata": {},
   "outputs": [],
   "source": [
    "par = SimpleNamespace()\n",
    "par.J = 3\n",
    "par.N = 10\n",
    "par.K = 10000\n",
    "\n",
    "par.F = np.arange(1,par.N+1)\n",
    "par.sigma = 2\n",
    "\n",
    "par.v = np.array([1,2,3])\n",
    "par.c = 1"
   ]
  },
  {
   "cell_type": "markdown",
   "metadata": {},
   "source": [
    "**Question 1:** Simulate and calculate expected utility and the average realised utility for $K=10000$ draws, for each career choice $j$.\n"
   ]
  },
  {
   "cell_type": "code",
   "execution_count": 7,
   "metadata": {},
   "outputs": [],
   "source": [
    "# write your answer here"
   ]
  },
  {
   "cell_type": "markdown",
   "metadata": {},
   "source": [
    "Now consider a new scenario: Imagine that the graduate does not know $v_j$. The *only* prior information they have on the value of each job, comes from their $F_{i}$ friends that work in each career $j$. After talking with them, they know the average utility of their friends (which includes their friends' noise term), giving them the prior expecation: <br>\n",
    "$$\n",
    "\\tilde{u}^k_{i,j}\\left( F_{i}\\right) = \\frac{1}{F_{i}}\\sum_{f=1}^{F_{i}} \\left(v_{j} + \\epsilon^k_{f,j}\\right), \\; \\epsilon^k_{f,j}\\sim \\mathcal{N}(0,\\sigma^2)\n",
    "$$\n",
    "For ease of notation consider that each graduate have $F_{i}=i$ friends in each career. <br>"
   ]
  },
  {
   "cell_type": "markdown",
   "metadata": {},
   "source": [
    "For $K$ times do the following: <br>\n",
    "1. For each person $i$ draw $J\\cdot F_i$ values of $\\epsilon_{f,j}^{k}$, and calculate the prior expected utility of each career track, $\\tilde{u}^k_{i,j}\\left( F_{i}\\right)$. <br>\n",
    "Also draw their own $J$ noise terms, $\\epsilon_{i,j}^k$\n",
    "1. Each person $i$ chooses the career track with the highest expected utility: $$j_i^{k*}= \\arg\\max_{j\\in{1,2\\dots,J}}\\left\\{ \\tilde{u}^k_{i,j}\\left( F_{i}\\right)\\right\\} $$\n",
    "1. Store the chosen careers: $j_i^{k*}$, the prior expectation of the value of their chosen career: $\\tilde{u}^k_{i,j=j_i^{k*}}\\left( F_{i}\\right)$, and the realized value of their chosen career track: $u^k_{i,j=j_i^{k*}}=v_{j=j_i^{k*}}+\\epsilon_{i,j=j_i^{k*}}^k$."
   ]
  },
  {
   "cell_type": "markdown",
   "metadata": {},
   "source": [
    "Chosen values will be: <br>\n",
    "$i\\in\\left\\{1,2\\dots,N\\right\\}, N=10$ <br>\n",
    "$F_i = i$<br>\n",
    "So there are 10 graduates. The first has 1 friend in each career, the second has 2 friends, ... the tenth has 10 friends."
   ]
  },
  {
   "cell_type": "markdown",
   "metadata": {},
   "source": [
    "**Question 2:** Simulate and visualize: For each type of graduate, $i$, the share of graduates choosing each career, the average subjective expected utility of the graduates, and the average ex post realized utility given their choice. <br>\n",
    "That is, calculate and visualize: <br>\n",
    "$$\n",
    "\\begin{align*}\n",
    "    \\frac{1}{K} \\sum_{k=1}^{K} \\mathbb{I}\\left\\{ j=j_i^{k*} \\right\\}  \\;\\forall j\\in\\left\\{1,2,\\dots,J\\right\\}\n",
    "\\end{align*}\n",
    "$$\n",
    "$$\n",
    "\\begin{align*}\n",
    "    \\frac{1}{K} \\sum_{k=1}^{K} \\tilde{u}^k_{ij=j_i^{k*}}\\left( F_{i}\\right)\n",
    "\\end{align*}\n",
    "$$\n",
    "And \n",
    "$$\n",
    "\\begin{align*}\n",
    "    \\frac{1}{K} \\sum_{k=1}^{K} u^k_{ij=j_i^{k*}} \n",
    "\\end{align*}\n",
    "$$\n",
    "For each graduate $i$."
   ]
  },
  {
   "cell_type": "code",
   "execution_count": 8,
   "metadata": {},
   "outputs": [],
   "source": [
    "# Write your answer here "
   ]
  },
  {
   "cell_type": "markdown",
   "metadata": {},
   "source": [
    "After a year of working in their career, the graduates learn $u^k_{ij}$ for their chosen job $j_i^{k*}$ perfectly. <br>\n",
    "The can switch to one of the two remaining careers, for which they have the same prior as before, but it will now include a switching cost of $c$ which is known.\n",
    "Their new priors can be written as: \n",
    "$$\n",
    "\\tilde{u}^{k,2}_{ij}\\left( F_{i}\\right) = \\begin{cases}\n",
    "            \\tilde{u}^k_{ij}\\left( F_{i}\\right)-c & \\text{if } j \\neq j_i^{k*} \\\\\n",
    "            u_{ij=j_i^{k*}} & \\text{if } j = j_i^{k*}\n",
    "        \\end{cases}\n",
    "$$"
   ]
  },
  {
   "cell_type": "markdown",
   "metadata": {},
   "source": [
    "We will set $c=1$."
   ]
  },
  {
   "cell_type": "markdown",
   "metadata": {},
   "source": [
    "Their realized utility will be: <br>\n",
    "$$\n",
    "u^{k,2}_{ij}= \\begin{cases}\n",
    "            u_{ij}^k -c & \\text{if } j \\neq j_i^{k*} \\\\\n",
    "            u_{ij=j_i^{k*}} & \\text{if } j = j_i^{k*}\n",
    "        \\end{cases}\n",
    "$$"
   ]
  },
  {
   "cell_type": "markdown",
   "metadata": {},
   "source": [
    "**Question 3:** Following the same approach as in question 2, find the new optimal career choice for each $i$, $k$. Then for each $i$, calculate the average subjective expected utility from their new optimal career choice, and the ex post realized utility of that career. Also, for each $i$, calculate the share of graduates that chooses to switch careers, conditional on which career they chose in the first year. <br>"
   ]
  },
  {
   "cell_type": "code",
   "execution_count": 9,
   "metadata": {},
   "outputs": [],
   "source": [
    "# write your answer here"
   ]
  },
  {
   "cell_type": "markdown",
   "metadata": {},
   "source": [
    "## 3. <a id='toc3_'></a>[Problem 3: Barycentric interpolation](#toc0_)"
   ]
  },
  {
   "cell_type": "markdown",
   "metadata": {},
   "source": [
    "**Problem:** We have a set of random points in the unit square,\n",
    "\n",
    "$$\n",
    "\\mathcal{X} = \\{(x_1,x_2)\\,|\\,x_1\\sim\\mathcal{U}(0,1),x_2\\sim\\mathcal{U}(0,1)\\}.\n",
    "$$\n",
    "\n",
    "For these points, we know the value of some function $f(x_1,x_2)$,\n",
    "\n",
    "$$\n",
    "\\mathcal{F} = \\{f(x_1,x_2) \\,|\\, (x_1,x_2) \\in \\mathcal{X}\\}.\n",
    "$$\n",
    "\n",
    "Now we want to approximate the value $f(y_1,y_2)$ for some  $y=(y_1,y_2)$, where $y_1\\sim\\mathcal{U}(0,1)$ and $y_2\\sim\\mathcal{U}(0,1)$.\n",
    "\n",
    "**Building block I**\n",
    "\n",
    "For an arbitrary triangle $ABC$ and a point $y$, define the so-called barycentric coordinates as:\n",
    "\n",
    "$$\n",
    "\\begin{align*}\n",
    "  r^{ABC}_1 &= \\frac{(B_2-C_2)(y_1-C_1) + (C_1-B_1)(y_2-C_2)}{(B_2-C_2)(A_1-C_1) + (C_1-B_1)(A_2-C_2)} \\\\\n",
    "  r^{ABC}_2 &= \\frac{(C_2-A_2)(y_1-C_1) + (A_1-C_1)(y_2-C_2)}{(B_2-C_2)(A_1-C_1) + (C_1-B_1)(A_2-C_2)} \\\\\n",
    "  r^{ABC}_3 &= 1 - r_1 - r_2.\n",
    "\\end{align*}\n",
    "$$\n",
    "\n",
    "If $r^{ABC}_1 \\in [0,1]$, $r^{ABC}_2 \\in [0,1]$, and $r^{ABC}_3 \\in [0,1]$, then the point is inside the triangle.\n",
    "\n",
    "We always have $y = r^{ABC}_1 A + r^{ABC}_2 B + r^{ABC}_3 C$.\n",
    "\n",
    "**Building block II**\n",
    "\n",
    "Define the following points:\n",
    "\n",
    "$$\n",
    "\\begin{align*}\n",
    "A&=\\arg\\min_{(x_{1},x_{2})\\in\\mathcal{X}}\\sqrt{\\left(x_{1}-y_{1}\\right)^{2}+\\left(x_{2}-y_{2}\\right)^{2}}\\text{ s.t. }x_{1}>y_{1}\\text{ and }x_{2}>y_{2}\\\\\n",
    "B&=\\arg\\min_{(x_{1},x_{2})\\in\\mathcal{X}}\\sqrt{\\left(x_{1}-y_{1}\\right)^{2}+\\left(x_{2}-y_{2}\\right)^{2}}\\text{ s.t. }x_{1}>y_{1}\\text{ and }x_{2}<y_{2}\\\\\n",
    "C&=\\arg\\min_{(x_{1},x_{2})\\in\\mathcal{X}}\\sqrt{\\left(x_{1}-y_{1}\\right)^{2}+\\left(x_{2}-y_{2}\\right)^{2}}\\text{ s.t. }x_{1}<y_{1}\\text{ and }x_{2}<y_{2}\\\\\n",
    "D&=\\arg\\min_{(x_{1},x_{2})\\in\\mathcal{X}}\\sqrt{\\left(x_{1}-y_{1}\\right)^{2}+\\left(x_{2}-y_{2}\\right)^{2}}\\text{ s.t. }x_{1}<y_{1}\\text{ and }x_{2}>y_{2}.\n",
    "\\end{align*}\n",
    "$$\n",
    "\n",
    "**Algorithm:**\n",
    "\n",
    "1. Compute $A$, $B$, $C$, and $D$. If not possible return `NaN`.\n",
    "1. If $y$ is inside the triangle $ABC$ return $r^{ABC}_1 f(A) + r^{ABC}_2 f(B) + r^{ABC}_3 f(C)$.\n",
    "1. If $y$ is inside the triangle $CDA$ return $r^{CDA}_1 f(C) + r^{CDA}_2 f(D) + r^{CDA}_3 f(A)$.\n",
    "1. Return `NaN`.\n",
    "\n"
   ]
  },
  {
   "cell_type": "markdown",
   "metadata": {},
   "source": [
    "**Sample:**"
   ]
  },
  {
   "cell_type": "code",
   "execution_count": 10,
   "metadata": {},
   "outputs": [
    {
     "name": "stdout",
     "output_type": "stream",
     "text": [
      "[0.20901926 0.37774759]\n"
     ]
    }
   ],
   "source": [
    "rng = np.random.default_rng(2024)\n",
    "\n",
    "X = rng.uniform(size=(50,2))\n",
    "y = rng.uniform(size=(2,))\n",
    "\n",
    "print(y)"
   ]
  },
  {
   "cell_type": "markdown",
   "metadata": {},
   "source": [
    "**Questions 1:** Find $A$, $B$, $C$ and $D$. Illustrate these together with $X$, $y$ and the triangles $ABC$ and $CDA$."
   ]
  },
  {
   "cell_type": "markdown",
   "metadata": {},
   "source": [
    "To find the points $A, B, C$, and $D$ which are closest to point $y$, the following distance function is used:\n",
    "\n",
    "$$\n",
    "\\begin{align*}\n",
    "A&=\\arg\\min_{(x_{1},x_{2})\\in\\mathcal{X}}\\sqrt{\\left(x_{1}-y_{1}\\right)^{2}+\\left(x_{2}-y_{2}\\right)^{2}}\\text{ s.t. }x_{1}>y_{1}\\text{ and }x_{2}>y_{2} \\\\\n",
    "B&=\\arg\\min_{(x_{1},x_{2})\\in\\mathcal{X}}\\sqrt{\\left(x_{1}-y_{1}\\right)^{2}+\\left(x_{2}-y_{2}\\right)^{2}}\\text{ s.t. }x_{1}>y_{1}\\text{ and }x_{2}<y_{2} \\\\\n",
    "C&=\\arg\\min_{(x_{1},x_{2})\\in\\mathcal{X}}\\sqrt{\\left(x_{1}-y_{1}\\right)^{2}+\\left(x_{2}-y_{2}\\right)^{2}}\\text{ s.t. }x_{1}<y_{1}\\text{ and }x_{2}<y_{2} \\\\\n",
    "D&=\\arg\\min_{(x_{1},x_{2})\\in\\mathcal{X}}\\sqrt{\\left(x_{1}-y_{1}\\right)^{2}+\\left(x_{2}-y_{2}\\right)^{2}}\\text{ s.t. }x_{1}<y_{1}\\text{ and }x_{2}>y_{2}.\n",
    "\\end{align*}\n",
    "$$\n",
    "\n",
    "Hence, the code finds the closest points $A, B, C$, and $D$ from a set $X$ relative to point $y$. It then plots these points along with $y$ and highlights the triangles $ABC$ and $CDA$ if all relevant points are found.\n",
    "\n",
    "- The first section loops through all points in $X$ to find the closest point to $y$.\n",
    "- The second section plots the points in $X$, the point $y$, and the closest points $A$, $B$, $C$, and $D$.\n",
    "- It also draws and shades the triangles $ABC$ and $CDA$ if they can be formed.\n",
    "\n",
    "\n"
   ]
  },
  {
   "cell_type": "code",
   "execution_count": 11,
   "metadata": {},
   "outputs": [
    {
     "data": {
      "image/png": "[encoded data removed]",
      "text/plain": [
       "<Figure size 800x800 with 1 Axes>"
      ]
     },
     "metadata": {},
     "output_type": "display_data"
    }
   ],
   "source": [
    "# Distance function\n",
    "# Setting up one generelized function to later only change the s.t. condition\n",
    "# The function calculates the euclidean distance between two points\n",
    "def euclidean_distance(p1, p2):\n",
    "    return np.sqrt((p1[0] - p2[0])**2 + (p1[1] - p2[1])**2)\n",
    "\n",
    "# Initialize original points as NaN. This way we can check if they have been updated and the calculation of A, B, C, D is possible.\n",
    "A, B, C, D = (np.nan, np.nan), (np.nan, np.nan), (np.nan, np.nan), (np.nan, np.nan)\n",
    "# Initialize minimum distances as infinity to ensure that the first distance will be smaller than the initial value.\n",
    "min_dist_A = min_dist_B = min_dist_C = min_dist_D = np.inf\n",
    "\n",
    "# Find A, B, C, D\n",
    "# Loop through all points in X and find the closest point to y in each of the point equations.\n",
    "for x in X:\n",
    "    if x[0] > y[0] and x[1] > y[1]:\n",
    "        dist = euclidean_distance(x, y)\n",
    "        if dist < min_dist_A:\n",
    "            A, min_dist_A = x, dist\n",
    "    elif x[0] > y[0] and x[1] < y[1]:\n",
    "        dist = euclidean_distance(x, y)\n",
    "        if dist < min_dist_B:\n",
    "            B, min_dist_B = x, dist\n",
    "    elif x[0] < y[0] and x[1] < y[1]:\n",
    "        dist = euclidean_distance(x, y)\n",
    "        if dist < min_dist_C:\n",
    "            C, min_dist_C = x, dist\n",
    "    elif x[0] < y[0] and x[1] > y[1]:\n",
    "        dist = euclidean_distance(x, y)\n",
    "        if dist < min_dist_D:\n",
    "            D, min_dist_D = x, dist\n",
    "\n",
    "# Plotting\n",
    "plt.figure(figsize=(8, 8))\n",
    "plt.scatter(X[:, 0], X[:, 1], label='Points in X')\n",
    "plt.scatter(y[0], y[1], color='red', label='y')\n",
    "if not np.isnan(A).any():\n",
    "    plt.scatter(A[0], A[1], color='blue', label='A')\n",
    "    plt.plot([y[0], A[0]], [y[1], A[1]], color='blue', linestyle='--')\n",
    "if not np.isnan(B).any():\n",
    "    plt.scatter(B[0], B[1], color='green', label='B')\n",
    "    plt.plot([y[0], B[0]], [y[1], B[1]], color='green', linestyle='--')\n",
    "if not np.isnan(C).any():\n",
    "    plt.scatter(C[0], C[1], color='purple', label='C')\n",
    "    plt.plot([y[0], C[0]], [y[1], C[1]], color='purple', linestyle='--')\n",
    "if not np.isnan(D).any():\n",
    "    plt.scatter(D[0], D[1], color='orange', label='D')\n",
    "    plt.plot([y[0], D[0]], [y[1], D[1]], color='orange', linestyle='--')\n",
    "\n",
    "# Drawing triangles if possible and A, B, C, D are not NaN\n",
    "if not (np.isnan(A).any() or np.isnan(B).any() or np.isnan(C).any()):\n",
    "    plt.fill([A[0], B[0], C[0]], [A[1], B[1], C[1]], 'b', alpha=0.2, label='Triangle ABC')\n",
    "if not (np.isnan(C).any() or np.isnan(D).any() or np.isnan(A).any()):\n",
    "    plt.fill([C[0], D[0], A[0]], [C[1], D[1], A[1]], 'r', alpha=0.2, label='Triangle CDA')\n",
    "\n",
    "plt.legend()\n",
    "plt.xlabel('x1')\n",
    "plt.ylabel('x2')\n",
    "plt.title('Points in X, y, and the closest points A, B, C and D')\n",
    "plt.show()\n"
   ]
  },
  {
   "cell_type": "markdown",
   "metadata": {},
   "source": [
    "**Question 2:** Compute the barycentric coordinates of the point $y$ with respect to the triangles $ABC$ and $CDA$. Which triangle is $y$ located inside?"
   ]
  },
  {
   "cell_type": "markdown",
   "metadata": {},
   "source": [
    "To clarify the approach, let's closely examine the relevant functions first.\n",
    "\n",
    "For a triangle $ABC$, the barycentric coordinates $(r_1^{ABC}, r_2^{ABC}, r_3^{ABC})$ are calculated as follows:\n",
    "\n",
    "\n",
    "\\begin{align*}\n",
    "  r_1^{ABC} &= \\frac{(B_2 - C_2)(y_1 - C_1) + (C_1 - B_1)(y_2 - C_2)}{(B_2 - C_2)(A_1 - C_1) + (C_1 - B_1)(A_2 - C_2)} \\\\\n",
    "  r_2^{ABC} &= \\frac{(C_2 - A_2)(y_1 - C_1) + (A_1 - C_1)(y_2 - C_2)}{(B_2 - C_2)(A_1 - C_1) + (C_1 - B_1)(A_2 - C_2)} \\\\\n",
    "  r_3^{ABC} &= 1 - r_1^{ABC} - r_2^{ABC}\n",
    "\\end{align*}\n",
    "\n",
    "\n",
    "This function computes the barycentric coordinates $(r_1^{ABC}, r_2^{ABC}, r_3^{ABC})$ for a $y$ inside triangle $ABC$. Here, $A$, $B$, and $C$ represent the corners of the triangle, with coordinates $(A_1, A_2)$, $(B_1, B_2)$, and $(C_1, C_2)$, where the first and second indices correspond to the x-axis and y-axis coordinates.\n",
    "\n",
    "Similarly, for triangle $CDA$, the formula is:\n",
    "\n",
    "\n",
    "\\begin{align*}\n",
    "  r_1^{CDA} &= \\frac{(D_2 - A_2)(y_1 - A_1) + (A_1 - D_1)(y_2 - A_2)}{(D_2 - A_2)(C_1 - A_1) + (A_1 - D_1)(C_2 - A_2)} \\\\\n",
    "  r_2^{CDA} &= \\frac{(A_2 - C_2)(y_1 - A_1) + (C_1 - A_1)(y_2 - A_2)}{(D_2 - A_2)(C_1 - A_1) + (A_1 - D_1)(C_2 - A_2)} \\\\\n",
    "  r_3^{CDA} &= 1 - r_1^{CDA} - r_2^{CDA}\n",
    "\\end{align*}\n",
    "\n",
    "\n",
    "In this task, we will apply the above functions to the previously calculated triangles. The barycentric coordinates are calculated for both triangles. We then apply conditions to determine in which triangle point $y$ is located.\n",
    "\n",
    "If $ r_1^{ABC} \\in [0, 1] $, $ r_2^{ABC} \\in [0, 1] $, and $ r_3^{ABC} \\in [0, 1] $, then the point is inside triangle $ABC$. If $ r_1^{CDA} \\in [0, 1] $, $ r_2^{CDA} \\in [0, 1] $, and $ r_3^{CDA} \\in [0, 1] $, then point $y$ is inside triangle $CDA$. If none of these conditions hold, point $y$ is located outside both triangles.\n",
    "\n",
    "This code works as followed:\n",
    "\n",
    "- A function `barycentric_coordinates` is defined to compute the barycentric coordinates for a point relative to a triangle.\n",
    "- Barycentric coordinates are computed for $y$ for the triangles $ABC$ and $CDA$.\n",
    "- The code checks if $y$ is inside triangle $ABC$, $CDA$ or outside of these with the above displayed conditions\n",
    "\n",
    "\n"
   ]
  },
  {
   "cell_type": "code",
   "execution_count": 12,
   "metadata": {},
   "outputs": [
    {
     "name": "stdout",
     "output_type": "stream",
     "text": [
      "The barycentric coordinate is (r1ABC, r2ABC, r3ABC) =  0.6286263152916166 0.06910145494351515 0.3022722297648682\n",
      "The point y is inside triangle ABC\n"
     ]
    }
   ],
   "source": [
    "# Function to compute barycentric coordinates\n",
    "# Considerer that we only use one function for both triangles as the setup is the same.\n",
    "def barycentric_coordinates(y, A, B, C):\n",
    "    denom = (B[1] - C[1]) * (A[0] - C[0]) + (C[0] - B[0]) * (A[1] - C[1])\n",
    "    r1 = ((B[1] - C[1]) * (y[0] - C[0]) + (C[0] - B[0]) * (y[1] - C[1])) / denom\n",
    "    r2 = ((C[1] - A[1]) * (y[0] - C[0]) + (A[0] - C[0]) * (y[1] - C[1])) / denom\n",
    "    r3 = 1 - r1 - r2\n",
    "    return r1, r2, r3\n",
    "\n",
    "\n",
    "# Compute barycentric coordinates for triangle ABC\n",
    "r_ABC1, r_ABC2, r_ABC3 = barycentric_coordinates(y, A, B, C)\n",
    "# Compute barycentric coordinates for triangle CDA\n",
    "r_CDA1, r_CDA2, r_CDA3 = barycentric_coordinates(y, C, D, A)\n",
    "\n",
    "# Check if y is inside the triangle ABC\n",
    "inside_ABC = (0 <= r_ABC1 <= 1) and (0 <= r_ABC2 <= 1) and (0 <= r_ABC3 <= 1)\n",
    "# Check if y is inside the triangle CDA\n",
    "inside_CDA = (0 <= r_CDA1 <= 1) and (0 <= r_CDA2 <= 1) and (0 <= r_CDA3 <= 1)\n",
    "\n",
    "\n",
    "if inside_ABC:\n",
    "    \n",
    "    print(\"The barycentric coordinate is (r1ABC, r2ABC, r3ABC) = \", r_ABC1, r_ABC2, r_ABC3)\n",
    "    print(\"The point y is inside triangle ABC\")\n",
    "\n",
    "elif inside_CDA:\n",
    "    \n",
    "    print(\"The barycentric coordinate is (r1CDA, r2CDA, r3CDA) = \", r_CDA1, r_CDA2, r_CDA3)\n",
    "    print(\"The point y is inside triangle CDA\")\n",
    "    \n",
    "else:\n",
    "    result = np.nan\n",
    "    print(\"The point y is outside both triangles ABC and CDA\")\n",
    "\n",
    "\n",
    "\n"
   ]
  },
  {
   "cell_type": "markdown",
   "metadata": {},
   "source": [
    "Now consider the function:\n",
    "$$\n",
    "f(x_1,x_2) = x_1 \\cdot x_2\n",
    "$$"
   ]
  },
  {
   "cell_type": "code",
   "execution_count": 13,
   "metadata": {},
   "outputs": [],
   "source": [
    "f = lambda x: x[0]*x[1]\n",
    "F = np.array([f(x) for x in X])"
   ]
  },
  {
   "cell_type": "markdown",
   "metadata": {},
   "source": [
    "**Question 3:** Compute the approximation of $f(y)$ using the full algorithm. Compare with the true value."
   ]
  },
  {
   "cell_type": "markdown",
   "metadata": {},
   "source": [
    "The approximation of $f(y)$ is calcualted by \n",
    "$$\n",
    "f(y)_{approx} = r^{ABC}_1 f(A) + r^{ABC}_2 f(B) + r^{ABC}_3 f(C)\n",
    "$$ \n",
    "if $y$ is in triangle $ABC$ or by \n",
    "$$f_{approx}(y) = r^{CDA}_1 f(C) + r^{CDA}_2 f(D) + r^{CDA}_3 f(A)\n",
    "$$ \n",
    "if $y$ is in triangle $CDA$. We use the in question 2 calculated barycentric coordinates.\n",
    "\n",
    "Further, we calculate the true value of $y$ which we define as \n",
    "$$\n",
    "f_{true}(y_1,y_2) = y_1 \\cdot y_2\n",
    "$$\n",
    "This reuslt is used to calculate the absolute interpolation error to get a feeling on the percision of the barycentric interpolation. the error is defined as\n",
    "$$\n",
    "error = |f_{true}(y)-f_{approx}(y)|\n",
    "$$\n",
    "\n",
    "The next cell displays the entire algorithm, including all definitions and functions. It can be split into two parts. \n",
    "- Part 1 includes the unaltered code from questions 1 and 2. \n",
    "- Part 2 contains an if-loop to calculate the appropriate $f_{approx}(y)$ depending on the location of $y$ as well as the calculation of $f_{true}(y)$ and the $error$.\n",
    "\n",
    "\n"
   ]
  },
  {
   "cell_type": "code",
   "execution_count": 14,
   "metadata": {},
   "outputs": [
    {
     "name": "stdout",
     "output_type": "stream",
     "text": [
      "The barycentric coordinate is (r1ABC, r2ABC, r3ABC) =  0.6286263152916166 0.06910145494351515 0.3022722297648682\n",
      "The point y is inside triangle ABC\n",
      "Approximation of f(y) using triangle points and barycentric coordiante is: 0.08405201731052576\n",
      "True value of f(y) is: 0.0789565216259594\n",
      "The absolute interpolation error is: 0.005095495684566367\n"
     ]
    }
   ],
   "source": [
    "#Part 1\n",
    "\n",
    "# Distance function\n",
    "def euclidean_distance(p1, p2):\n",
    "    return np.sqrt((p1[0] - p2[0])**2 + (p1[1] - p2[1])**2)\n",
    "\n",
    "# Initialize original points as NaN\n",
    "A, B, C, D = (np.nan, np.nan), (np.nan, np.nan), (np.nan, np.nan), (np.nan, np.nan)\n",
    "min_dist_A = min_dist_B = min_dist_C = min_dist_D = np.inf\n",
    "\n",
    "# Find A, B, C, D\n",
    "for x in X:\n",
    "    if x[0] > y[0] and x[1] > y[1]:\n",
    "        dist = euclidean_distance(x, y)\n",
    "        if dist < min_dist_A:\n",
    "            A, min_dist_A = x, dist\n",
    "    elif x[0] > y[0] and x[1] < y[1]:\n",
    "        dist = euclidean_distance(x, y)\n",
    "        if dist < min_dist_B:\n",
    "            B, min_dist_B = x, dist\n",
    "    elif x[0] < y[0] and x[1] < y[1]:\n",
    "        dist = euclidean_distance(x, y)\n",
    "        if dist < min_dist_C:\n",
    "            C, min_dist_C = x, dist\n",
    "    elif x[0] < y[0] and x[1] > y[1]:\n",
    "        dist = euclidean_distance(x, y)\n",
    "        if dist < min_dist_D:\n",
    "            D, min_dist_D = x, dist\n",
    "\n",
    "\n",
    "# Function to compute barycentric coordinates\n",
    "def barycentric_coordinates(y, A, B, C):\n",
    "    denom = (B[1] - C[1]) * (A[0] - C[0]) + (C[0] - B[0]) * (A[1] - C[1])\n",
    "    r1 = ((B[1] - C[1]) * (y[0] - C[0]) + (C[0] - B[0]) * (y[1] - C[1])) / denom\n",
    "    r2 = ((C[1] - A[1]) * (y[0] - C[0]) + (A[0] - C[0]) * (y[1] - C[1])) / denom\n",
    "    r3 = 1 - r1 - r2\n",
    "    return r1, r2, r3\n",
    "\n",
    "# Compute barycentric coordinates for triangle ABC\n",
    "r_ABC1, r_ABC2, r_ABC3 = barycentric_coordinates(y, A, B, C)\n",
    "# Compute barycentric coordinates for triangle CDA\n",
    "r_CDA1, r_CDA2, r_CDA3 = barycentric_coordinates(y, C, D, A)\n",
    "\n",
    "# Check if y is inside the triangle ABC\n",
    "inside_ABC = (0 <= r_ABC1 <= 1) and (0 <= r_ABC2 <= 1) and (0 <= r_ABC3 <= 1)\n",
    "# Check if y is inside the triangle CDA\n",
    "inside_CDA = (0 <= r_CDA1 <= 1) and (0 <= r_CDA2 <= 1) and (0 <= r_CDA3 <= 1)\n",
    "\n",
    "\n",
    "\n",
    "#Part 2\n",
    "\n",
    "\n",
    "# Extensions of current algorithm to calculate f(y) using barycentric coordinates\n",
    "# Calculate f(y) using barycentric coordinates\n",
    "if inside_ABC:\n",
    "    print(\"The barycentric coordinate is (r1ABC, r2ABC, r3ABC) = \", r_ABC1, r_ABC2, r_ABC3)\n",
    "    print(\"The point y is inside triangle ABC\")\n",
    "    f_y_approx = r_ABC1 * f(A) + r_ABC2 * f(B) + r_ABC3 * f(C)\n",
    "    print(f\"Approximation of f(y) using triangle points and barycentric coordiante is: {f_y_approx}\")\n",
    "elif inside_CDA:\n",
    "    print(\"The barycentric coordinate is (r1CDA, r2CDA, r3CDA) = \", r_CDA1, r_CDA2, r_CDA3)\n",
    "    print(\"The point y is inside triangle CDA\")\n",
    "    f_y_approx = r_CDA1 * f(C) + r_CDA2 * f(D) + r_CDA3 * f(A)\n",
    "    print(f\"Approximation of f(y) using triangle points and barycentric coordiante is: {f_y_approx}\")\n",
    "else:\n",
    "    f_y_approx = np.nan\n",
    "    print(\"The point y is outside both triangles ABC and CDA\")\n",
    "\n",
    "# Compute the true value of f(y)\n",
    "f_y_true = f(y)\n",
    "\n",
    "# Output the results\n",
    "print(f\"True value of f(y) is: {f_y_true}\")\n",
    "print(f\"The absolute interpolation error is: {abs(f_y_true - f_y_approx)}\")\n"
   ]
  },
  {
   "cell_type": "markdown",
   "metadata": {},
   "source": [
    "**Question 4:** Repeat question 3 for all points in the set $Y$."
   ]
  },
  {
   "cell_type": "markdown",
   "metadata": {},
   "source": [
    "We extend the code from question 3 by iterating the algorithm over each point in the set $Y$. Additionally, we modify the print statements. The code produces different statements based on whether the points are inside or outside the triangles."
   ]
  },
  {
   "cell_type": "code",
   "execution_count": 15,
   "metadata": {},
   "outputs": [],
   "source": [
    "Y = [(0.2,0.2),(0.8,0.2),(0.8,0.8),(0.8,0.2),(0.5,0.5)]"
   ]
  },
  {
   "cell_type": "code",
   "execution_count": 16,
   "metadata": {},
   "outputs": [
    {
     "name": "stdout",
     "output_type": "stream",
     "text": [
      "The point (0.8, 0.8) is outside the triangles ABC and CDA\n",
      "\n",
      "Point y: (0.2, 0.2)\n",
      "Triangle: ABC\n",
      "True value of f(y): 0.04000000000000001\n",
      "Approximation of f(y) using triangle points: 0.04032631372248057\n",
      "Absolute interpolation error: 0.0003263137224805632\n",
      "\n",
      "Point y: (0.8, 0.2)\n",
      "Triangle: ABC\n",
      "True value of f(y): 0.16000000000000003\n",
      "Approximation of f(y) using triangle points: 0.15874233999349835\n",
      "Absolute interpolation error: 0.0012576600065016819\n",
      "\n",
      "Point y: (0.8, 0.2)\n",
      "Triangle: ABC\n",
      "True value of f(y): 0.16000000000000003\n",
      "Approximation of f(y) using triangle points: 0.15874233999349835\n",
      "Absolute interpolation error: 0.0012576600065016819\n",
      "\n",
      "Point y: (0.5, 0.5)\n",
      "Triangle: ABC\n",
      "True value of f(y): 0.25\n",
      "Approximation of f(y) using triangle points: 0.2512901561119622\n",
      "Absolute interpolation error: 0.001290156111962204\n",
      "\n"
     ]
    }
   ],
   "source": [
    "# Process each point in Y\n",
    "results = []\n",
    "for y in Y:\n",
    "    # Initialize original points as NaN\n",
    "    A, B, C, D = (np.nan, np.nan), (np.nan, np.nan), (np.nan, np.nan), (np.nan, np.nan)\n",
    "    min_dist_A = min_dist_B = min_dist_C = min_dist_D = np.inf\n",
    "\n",
    "    # Find A, B, C, D\n",
    "    for x in X:\n",
    "        if x[0] > y[0] and x[1] > y[1]:\n",
    "            dist = np.sqrt((x[0] - y[0])**2 + (x[1] - y[1])**2)\n",
    "            if dist < min_dist_A:\n",
    "                A, min_dist_A = x, dist\n",
    "        elif x[0] > y[0] and x[1] < y[1]:\n",
    "            dist = np.sqrt((x[0] - y[0])**2 + (x[1] - y[1])**2)\n",
    "            if dist < min_dist_B:\n",
    "                B, min_dist_B = x, dist\n",
    "        elif x[0] < y[0] and x[1] < y[1]:\n",
    "            dist = np.sqrt((x[0] - y[0])**2 + (x[1] - y[1])**2)\n",
    "            if dist < min_dist_C:\n",
    "                C, min_dist_C = x, dist\n",
    "        elif x[0] < y[0] and x[1] > y[1]:\n",
    "            dist = np.sqrt((x[0] - y[0])**2 + (x[1] - y[1])**2)\n",
    "            if dist < min_dist_D:\n",
    "                D, min_dist_D = x, dist\n",
    "\n",
    "    # Compute barycentric coordinates for triangle ABC\n",
    "    r_ABC1, r_ABC2, r_ABC3 = barycentric_coordinates(y, A, B, C)\n",
    "    # Compute barycentric coordinates for triangle CDA\n",
    "    r_CDA1, r_CDA2, r_CDA3 = barycentric_coordinates(y, C, D, A)\n",
    "\n",
    "    # Check if y is inside the triangle ABC\n",
    "    inside_ABC = (0 <= r_ABC1 <= 1) and (0 <= r_ABC2 <= 1) and (0 <= r_ABC3 <= 1)\n",
    "    # Check if y is inside the triangle CDA\n",
    "    inside_CDA = (0 <= r_CDA1 <= 1) and (0 <= r_CDA2 <= 1) and (0 <= r_CDA3 <= 1)\n",
    "\n",
    "    # Calculate f(y) using barycentric coordinates if inside ABC or CDA\n",
    "    if inside_ABC:\n",
    "        f_y_approx = r_ABC1 * f(A) + r_ABC2 * f(B) + r_ABC3 * f(C)\n",
    "        f_y_true = f(y)\n",
    "        results.append((y, f_y_true, f_y_approx, \"ABC\"))\n",
    "    elif inside_CDA:\n",
    "        f_y_approx = r_CDA1 * f(C) + r_CDA2 * f(D) + r_CDA3 * f(A)\n",
    "        f_y_true = f(y)\n",
    "        results.append((y, f_y_true, f_y_approx, \"CDA\"))\n",
    "    else:\n",
    "        print(f\"The point {y} is outside the triangles ABC and CDA\")\n",
    "        print()\n",
    "\n",
    "# Output the results for points inside ABC or CDA\n",
    "for result in results:\n",
    "    y, f_y_true, f_y_approx, triangle = result\n",
    "    print(f\"Point y: {y}\")\n",
    "    print(f\"Triangle: {triangle}\")\n",
    "    print(f\"True value of f(y): {f_y_true}\")\n",
    "    print(f\"Approximation of f(y) using triangle points: {f_y_approx}\")\n",
    "    print(f\"Absolute interpolation error: {abs(f_y_true - f_y_approx)}\")\n",
    "    print()"
   ]
  },
  {
   "cell_type": "markdown",
   "metadata": {},
   "source": [
    "Except for the point $(0.8, 0.8)$, all other points lie inside a triangle. For these points, we can employ the barycentric interpolation. Because the interpolation error is small, the method can be considered as accurate."
   ]
  }
 ],
 "metadata": {
  "kernelspec": {
   "display_name": "base",
   "language": "python",
   "name": "python3"
  },
  "language_info": {
   "codemirror_mode": {
    "name": "ipython",
    "version": 3
   },
   "file_extension": ".py",
   "mimetype": "text/x-python",
   "name": "python",
   "nbconvert_exporter": "python",
   "pygments_lexer": "ipython3",
   "version": "3.11.7"
  }
 },
 "nbformat": 4,
 "nbformat_minor": 2
}
